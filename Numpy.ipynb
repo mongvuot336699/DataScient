{
  "nbformat": 4,
  "nbformat_minor": 0,
  "metadata": {
    "colab": {
      "name": "Numpy.ipynb",
      "provenance": [],
      "private_outputs": true,
      "collapsed_sections": [],
      "mount_file_id": "1LcPVH_5-oJGHU0OTzrmLY0P_7dNV6c_l",
      "authorship_tag": "ABX9TyNNPO586qPJhviz1MeDFjeb",
      "include_colab_link": true
    },
    "kernelspec": {
      "name": "python3",
      "display_name": "Python 3"
    },
    "accelerator": "GPU"
  },
  "cells": [
    {
      "cell_type": "markdown",
      "metadata": {
        "id": "view-in-github",
        "colab_type": "text"
      },
      "source": [
        "<a href=\"https://colab.research.google.com/github/mongvuot336699/DataScient/blob/master/Numpy.ipynb\" target=\"_parent\"><img src=\"https://colab.research.google.com/assets/colab-badge.svg\" alt=\"Open In Colab\"/></a>"
      ]
    },
    {
      "cell_type": "code",
      "metadata": {
        "id": "pvJmQo7LXHVF",
        "colab_type": "code",
        "colab": {}
      },
      "source": [
        "import numpy as np"
      ],
      "execution_count": null,
      "outputs": []
    },
    {
      "cell_type": "code",
      "metadata": {
        "id": "faRMsURI8X6G",
        "colab_type": "code",
        "colab": {}
      },
      "source": [
        "arr = np.zeros(10)\n",
        "print(arr)"
      ],
      "execution_count": null,
      "outputs": []
    },
    {
      "cell_type": "code",
      "metadata": {
        "id": "dxxeYO6ec3VF",
        "colab_type": "code",
        "colab": {}
      },
      "source": [
        "arr1 = np.ones(10)\n",
        "print(arr1)"
      ],
      "execution_count": null,
      "outputs": []
    },
    {
      "cell_type": "code",
      "metadata": {
        "id": "fjH4-0zSdpXk",
        "colab_type": "code",
        "colab": {}
      },
      "source": [
        "arr5 = 5*np.ones(10)\n",
        "print(arr5)"
      ],
      "execution_count": null,
      "outputs": []
    },
    {
      "cell_type": "code",
      "metadata": {
        "id": "j1rfvUqqdwXc",
        "colab_type": "code",
        "colab": {}
      },
      "source": [
        "ar = np.arange(10,51)\n",
        "print(ar)"
      ],
      "execution_count": null,
      "outputs": []
    },
    {
      "cell_type": "code",
      "metadata": {
        "id": "_fcxGEQud78-",
        "colab_type": "code",
        "colab": {}
      },
      "source": [
        "ar1 = np.arange(10,51,2)\n",
        "print(ar1)"
      ],
      "execution_count": null,
      "outputs": []
    },
    {
      "cell_type": "code",
      "metadata": {
        "id": "-cMIMKJZeB08",
        "colab_type": "code",
        "colab": {}
      },
      "source": [
        "ar2 = np.arange(9).reshape(3,3)\n",
        "print(ar2)"
      ],
      "execution_count": null,
      "outputs": []
    },
    {
      "cell_type": "code",
      "metadata": {
        "id": "5XzpxAXtegTA",
        "colab_type": "code",
        "colab": {}
      },
      "source": [
        "ar3 = np.eye(3,3)\n",
        "print(ar3)"
      ],
      "execution_count": null,
      "outputs": []
    },
    {
      "cell_type": "code",
      "metadata": {
        "id": "RQs02-y4eqCs",
        "colab_type": "code",
        "colab": {}
      },
      "source": [
        "a1 = np.random.rand(1) # tham so la so dimension\n",
        "print(a1)"
      ],
      "execution_count": null,
      "outputs": []
    },
    {
      "cell_type": "code",
      "metadata": {
        "id": "gKOf1EGEe5Va",
        "colab_type": "code",
        "colab": {}
      },
      "source": [
        "a2 = np.random.randn(5,5) # random.randn day so thuoc phan phoi chuan\n",
        "print(a2)"
      ],
      "execution_count": null,
      "outputs": []
    },
    {
      "cell_type": "code",
      "metadata": {
        "id": "rQlmw9N_fqpS",
        "colab_type": "code",
        "colab": {}
      },
      "source": [
        "a3 = np.arange(0.01,1.01,0.01).reshape(10,10)\n",
        "print(a3)"
      ],
      "execution_count": null,
      "outputs": []
    },
    {
      "cell_type": "code",
      "metadata": {
        "id": "KtHl6O89gSFi",
        "colab_type": "code",
        "colab": {}
      },
      "source": [
        "a4 = np.linspace(0,1,20) # linspace = return cac so cach deu nhau trong khoang\n",
        "a4"
      ],
      "execution_count": null,
      "outputs": []
    },
    {
      "cell_type": "code",
      "metadata": {
        "id": "c2FgiMgHgqNS",
        "colab_type": "code",
        "colab": {}
      },
      "source": [
        "mat = np.arange(1,26).reshape(5,5)\n",
        "mat"
      ],
      "execution_count": null,
      "outputs": []
    },
    {
      "cell_type": "code",
      "metadata": {
        "id": "iI-eofNBg8gh",
        "colab_type": "code",
        "colab": {}
      },
      "source": [
        "mat[2:,1:]"
      ],
      "execution_count": null,
      "outputs": []
    },
    {
      "cell_type": "code",
      "metadata": {
        "id": "8jXyrIFEhPkk",
        "colab_type": "code",
        "colab": {}
      },
      "source": [
        "mat[3,4]"
      ],
      "execution_count": null,
      "outputs": []
    },
    {
      "cell_type": "code",
      "metadata": {
        "id": "TvSz_OO4hbUV",
        "colab_type": "code",
        "colab": {}
      },
      "source": [
        "mat[:3,1:2]"
      ],
      "execution_count": null,
      "outputs": []
    },
    {
      "cell_type": "code",
      "metadata": {
        "id": "myIK-lD1hsC2",
        "colab_type": "code",
        "colab": {}
      },
      "source": [
        "mat[4,:]"
      ],
      "execution_count": null,
      "outputs": []
    },
    {
      "cell_type": "code",
      "metadata": {
        "id": "xL318JEph4HT",
        "colab_type": "code",
        "colab": {}
      },
      "source": [
        "mat[3:,:]"
      ],
      "execution_count": null,
      "outputs": []
    },
    {
      "cell_type": "code",
      "metadata": {
        "id": "avS8uAX6h-2M",
        "colab_type": "code",
        "colab": {}
      },
      "source": [
        "mat.sum()"
      ],
      "execution_count": null,
      "outputs": []
    },
    {
      "cell_type": "code",
      "metadata": {
        "id": "3ey2JrU3iOnz",
        "colab_type": "code",
        "colab": {}
      },
      "source": [
        "mat.std()"
      ],
      "execution_count": null,
      "outputs": []
    },
    {
      "cell_type": "code",
      "metadata": {
        "id": "iakxx079iRqu",
        "colab_type": "code",
        "colab": {}
      },
      "source": [
        "mat.sum(axis=0)"
      ],
      "execution_count": null,
      "outputs": []
    }
  ]
}